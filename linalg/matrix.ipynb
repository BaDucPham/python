{
 "cells": [
  {
   "cell_type": "code",
   "execution_count": 1,
   "metadata": {},
   "outputs": [],
   "source": [
    "import numpy as np\n",
    "from numpy import array,zeros\n",
    "from numpy.linalg import inv\n",
    "\n",
    "\n",
    "def find_first_nonzero(column):\n",
    "    for i in range(len(column)):\n",
    "        if column[i] != 0:\n",
    "            return i\n",
    "    return -1\n",
    "\n",
    "def swap_2_line(column1,column2):\n",
    "    temps = column1\n",
    "    column1 = column2\n",
    "    column2 = temps\n",
    "    return column1,column2\n",
    "\n",
    "\n",
    "\n",
    "def pivot_de_Gauss(A):\n",
    "    try:\n",
    "        nrows = len(A)\n",
    "        for i in range(nrows-1):\n",
    "            index_nonzero = i+find_first_nonzero(np.array(A,float)[i:,i])\n",
    "            if index_nonzero > i:\n",
    "                swap_2_line(A[i],A[index_nonzero])\n",
    "            for j in range(i+1,nrows):\n",
    "                if A[i][i] != 0:\n",
    "                    A[j] = A[j] - (A[j][i]/A[i][i])*A[i]\n",
    "                else:\n",
    "                    continue\n",
    "        return A\n",
    "    except Exception as e:\n",
    "        print(e)\n",
    "\n",
    "def refine(A):\n",
    "    nrows = len(A)\n",
    "    for i in range(nrows-1,-1,-1):\n",
    "        for j in range(i-1,-1,-1):\n",
    "            \n",
    "            index_nonzero = i+find_first_nonzero(A[i,i:])\n",
    "            if index_nonzero >= i:\n",
    "                A[j] = A[j] - (A[j][index_nonzero]/A[i][index_nonzero])*A[i] \n",
    "            else:\n",
    "                continue\n",
    "    for i in range(nrows):\n",
    "        if A[i,i] != 0:\n",
    "            A[i] = 1/A[i][i]*A[i]+0\n",
    "        else:\n",
    "            continue\n",
    "    return A\n",
    "def init_matrix():\n",
    "    arr = []\n",
    "    m,n = map(int,input('Nhap kich co ma tran he so A:').strip().split()) \n",
    "    found_A = False\n",
    "    while not found_A: \n",
    "        arr = []  \n",
    "        for i in range(m):\n",
    "            arr.append(input('Nhap hang {}: '.format(i+1)).strip().split())\n",
    "        if len(arr) == m and all(len(arr[i]) == n for i in range(m)):\n",
    "            found_A = True\n",
    "        else:\n",
    "            print('Khong phu hop kich co')\n",
    "    found_v = False\n",
    "    while not found_v:\n",
    "        v = input('Nhap vector phu hop').split()\n",
    "        if len(v) == m:\n",
    "            for i in range(m):\n",
    "                arr[i].append(v[i])\n",
    "            found_v = True\n",
    "        else:\n",
    "            print('Khong phu hop kich co')\n",
    "    \n",
    "    return np.array(arr,float)\n",
    "\n",
    "\n",
    "\n"
   ]
  },
  {
   "cell_type": "code",
   "execution_count": 2,
   "metadata": {},
   "outputs": [
    {
     "name": "stdout",
     "output_type": "stream",
     "text": [
      "Ma tran lien hop sau khi cheo hoa co dang \n",
      " [[ 1.    0.    0.    0.    1.5 ]\n",
      " [ 0.    1.    0.    0.   -2.5 ]\n",
      " [ 0.    0.    1.    0.    5.75]\n",
      " [ 0.    0.    0.    1.   -3.75]]\n"
     ]
    }
   ],
   "source": [
    "A = np.array([[1,1,1,1,1],[1,-1,-1,-1,2],[-1,-1,1,1,3],[-3,1,-3,-7,2]],float)\n",
    "print('Ma tran lien hop sau khi cheo hoa co dang \\n', refine(pivot_de_Gauss(A)))"
   ]
  },
  {
   "cell_type": "code",
   "execution_count": 4,
   "metadata": {},
   "outputs": [
    {
     "name": "stdout",
     "output_type": "stream",
     "text": [
      "[[-1.  1.  1.  0.]\n",
      " [-1.  1.  0.  0.]\n",
      " [-1.  0.  1.  0.]\n",
      " [ 0.  0.  0.  1.]]\n",
      "[[ 2. -1. -1. -1.]\n",
      " [ 1.  0. -1. -1.]\n",
      " [ 1. -1. -0. -1.]\n",
      " [ 1. -1. -1. -0.]]\n"
     ]
    }
   ],
   "source": [
    "mat1 = np.array([[1,-1,-1,0],[1,0,-1,0],[1,-1,0,0],[0,0,0,1]],float)\n",
    "mat2 = np.array([[2,-1,-1,-1],[1,0,-1,-1],[1,-1,0,-1],[1,-1,-1,0]],float)\n",
    "print(inv(mat1))\n",
    "print(inv(mat2))"
   ]
  },
  {
   "cell_type": "code",
   "execution_count": 1,
   "metadata": {},
   "outputs": [
    {
     "name": "stdout",
     "output_type": "stream",
     "text": [
      "[[-6 -8  0  8]\n",
      " [ 2  4  5  3]\n",
      " [ 3  5  4  0]\n",
      " [ 1  5  4 -3]\n",
      " [ 2  0  0  3]\n",
      " [ 0 -6 -3  9]] [ 6  3  1  3 -2 -3]\n",
      "[[ 6  4  7  2]\n",
      " [ 1  0  4  3]\n",
      " [-2 -4  2  4]\n",
      " [-8  6 -1  1]\n",
      " [ 0 -4 10 10]\n",
      " [ 4  0  9  6]] [ 1  3  4  7 10  5]\n"
     ]
    }
   ],
   "source": [
    "import numpy as np\n",
    "def find(A,B):\n",
    "    while True:\n",
    "        v = np.random.randint(-5,6,size=4)\n",
    "        pr_A = A.dot(v)\n",
    "        pr_B = B.dot(v)\n",
    "        if all(item in range(-10,11) for item in pr_A) and all(item in range(-10,11) for item in pr_B):\n",
    "            return v\n",
    "A =  np.array([[-6,-8,0,8],[2,4,5,3],[3,5,4,0],[1,5,4,-3],[2,0,0,3],[0,-6,-3,9]])\n",
    "B = np.array([[6,4,7,2],[1,0,4,3],[-2,-4,2,4],[-8,6,-1,1],[0,-4,10,10],[4,0,9,6]])\n",
    "root = np.array([-1,0,1,0])\n",
    "\n",
    "print(A, A.dot(root))\n",
    "print(B, B.dot(root))\n",
    "\n"
   ]
  }
 ],
 "metadata": {
  "interpreter": {
   "hash": "49e9415fe7fe3feefad2123877b384fbd92c720f3bcf500a4bdf3d5dfe78200d"
  },
  "kernelspec": {
   "display_name": "Python 3.7.11 64-bit ('myenv': conda)",
   "language": "python",
   "name": "python3"
  },
  "language_info": {
   "codemirror_mode": {
    "name": "ipython",
    "version": 3
   },
   "file_extension": ".py",
   "mimetype": "text/x-python",
   "name": "python",
   "nbconvert_exporter": "python",
   "pygments_lexer": "ipython3",
   "version": "3.7.12"
  },
  "orig_nbformat": 4
 },
 "nbformat": 4,
 "nbformat_minor": 2
}
