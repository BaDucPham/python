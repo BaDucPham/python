{
 "cells": [
  {
   "cell_type": "code",
   "execution_count": 1,
   "metadata": {},
   "outputs": [
    {
     "name": "stdout",
     "output_type": "stream",
     "text": [
      "[1, 3, 5, 7, 9, 11, 13, 15, 17, 19]\n"
     ]
    }
   ],
   "source": [
    "L = [2*n+1 for n in range(10)]\n",
    "print(L)"
   ]
  },
  {
   "cell_type": "code",
   "execution_count": 5,
   "metadata": {},
   "outputs": [
    {
     "name": "stdout",
     "output_type": "stream",
     "text": [
      "[0, 7, 14, 21, 28, 35, 42, 49, 56, 63, 70]\n",
      "[0, 7, 14, 21, 28, 35, 42, 49, 56, 63, 70]\n"
     ]
    }
   ],
   "source": [
    "L1 = [7*k for k in range(11)]\n",
    "L2 = [k for k in range(71) if k%7 ==0]\n",
    "print(L1)\n",
    "print(L2)\n"
   ]
  },
  {
   "cell_type": "code",
   "execution_count": 4,
   "metadata": {},
   "outputs": [
    {
     "data": {
      "text/plain": [
       "[-1/2, 1, 3]"
      ]
     },
     "execution_count": 4,
     "metadata": {},
     "output_type": "execute_result"
    }
   ],
   "source": [
    "import sympy as sp\n",
    "from sympy import *\n",
    "\n",
    "\n",
    "x = sp.symbols('x')\n",
    "sp.solve(2*x**3 -7*x**2 + 2*x + 3, x)"
   ]
  },
  {
   "cell_type": "code",
   "execution_count": 1,
   "metadata": {},
   "outputs": [
    {
     "name": "stdout",
     "output_type": "stream",
     "text": [
      "[{1, 2}, {1, 2, 4}, {8, 1, 2}]\n",
      "[{1, 2}, {1, 2, 4}, {8, 1, 2}, {9, 3, 7}, {3, 4, 5, 7}]\n",
      "[{1, 2}, {1, 2, 4}, {8, 1, 2}]\n",
      "[{9, 3, 7}, {3, 4, 5, 7}]\n",
      "[{4, 5}, {8, 4, 5, 7}]\n",
      "haha\n"
     ]
    }
   ],
   "source": [
    "F = [{1,2},{4,5},{1,2,4},{1,2,8},{3,7,9},{3,4,5,7},{4,5,7,8}]\n",
    "A = {1,2}\n",
    "B = {2,3}\n",
    "U = [L for L in F if A.issubset(L)]\n",
    "V = [L for L in F if B.intersection(L)]\n",
    "print(U)\n",
    "print(V)\n",
    "intersect = [L for L in U if L in V]\n",
    "print(intersect)\n",
    "minus = [L for L in V if not L in U]\n",
    "print(minus)\n",
    "complement = [L for L in F if not L in V]\n",
    "print(complement)\n",
    "\n",
    "print('haha')\n"
   ]
  },
  {
   "cell_type": "code",
   "execution_count": 38,
   "metadata": {},
   "outputs": [
    {
     "data": {
      "image/png": "[encoded data removed]",
      "text/plain": [
       "<Figure size 432x288 with 1 Axes>"
      ]
     },
     "metadata": {
      "needs_background": "light"
     },
     "output_type": "display_data"
    }
   ],
   "source": [
    "import numpy as np\n",
    "import matplotlib.pyplot as plt\n",
    "\n",
    "x = np.linspace(-2.0, 2.0, 100)\n",
    "y = np.linspace(-2.0, 2.0, 100)\n",
    "\n",
    "X, Y = np.meshgrid(x,y)\n",
    "\n",
    "F1 = X**2 + Y**2 - 1.0\n",
    "F2 = X-Y\n",
    "plt.contour(X,Y,F1,[0],colors=['red'])\n",
    "plt.contour(X,Y,F2,[0])\n",
    "plt.gca().set_aspect('equal')\n",
    "plt.grid(True, which='both')\n",
    "\n",
    "plt.scatter(0, 0, s=11999)\n",
    "plt.show()"
   ]
  },
  {
   "cell_type": "code",
   "execution_count": 1,
   "metadata": {},
   "outputs": [],
   "source": [
    "import math"
   ]
  }
 ],
 "metadata": {
  "kernelspec": {
   "display_name": "myenv",
   "language": "python",
   "name": "python3"
  },
  "language_info": {
   "codemirror_mode": {
    "name": "ipython",
    "version": 3
   },
   "file_extension": ".py",
   "mimetype": "text/x-python",
   "name": "python",
   "nbconvert_exporter": "python",
   "pygments_lexer": "ipython3",
   "version": "3.7.12"
  },
  "orig_nbformat": 4,
  "vscode": {
   "interpreter": {
    "hash": "71b48f91d7f1d461e62177cbe4cd697c8076c7a90147405d349f2bf7226fe14e"
   }
  }
 },
 "nbformat": 4,
 "nbformat_minor": 2
}
